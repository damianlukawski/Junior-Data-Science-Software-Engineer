{
 "cells": [
  {
   "cell_type": "code",
   "execution_count": 5,
   "metadata": {},
   "outputs": [],
   "source": [
    "import pandas as pd"
   ]
  },
  {
   "cell_type": "code",
   "execution_count": 6,
   "metadata": {},
   "outputs": [],
   "source": [
    "df = pd.read_csv(\"C:\\\\Users\\\\Damian\\\\PycharmProjects\\\\Roche\\\\Junior-Data-Science-Software-Engineer\\\\data\\\\train_preprocessed.csv\", sep = \";\")"
   ]
  },
  {
   "cell_type": "code",
   "execution_count": 7,
   "metadata": {},
   "outputs": [
    {
     "data": {
      "text/html": [
       "<div>\n",
       "<style scoped>\n",
       "    .dataframe tbody tr th:only-of-type {\n",
       "        vertical-align: middle;\n",
       "    }\n",
       "\n",
       "    .dataframe tbody tr th {\n",
       "        vertical-align: top;\n",
       "    }\n",
       "\n",
       "    .dataframe thead th {\n",
       "        text-align: right;\n",
       "    }\n",
       "</style>\n",
       "<table border=\"1\" class=\"dataframe\">\n",
       "  <thead>\n",
       "    <tr style=\"text-align: right;\">\n",
       "      <th></th>\n",
       "      <th>Unnamed: 0</th>\n",
       "      <th>PassengerId</th>\n",
       "      <th>Survived</th>\n",
       "      <th>Pclass</th>\n",
       "      <th>Sex</th>\n",
       "      <th>Age</th>\n",
       "      <th>SibSp</th>\n",
       "      <th>Parch</th>\n",
       "      <th>Fare</th>\n",
       "      <th>Embarked</th>\n",
       "    </tr>\n",
       "  </thead>\n",
       "  <tbody>\n",
       "    <tr>\n",
       "      <th>0</th>\n",
       "      <td>3</td>\n",
       "      <td>4</td>\n",
       "      <td>0</td>\n",
       "      <td>1</td>\n",
       "      <td>male</td>\n",
       "      <td>46.0</td>\n",
       "      <td>1</td>\n",
       "      <td>0</td>\n",
       "      <td>61.1750</td>\n",
       "      <td>S</td>\n",
       "    </tr>\n",
       "    <tr>\n",
       "      <th>1</th>\n",
       "      <td>7</td>\n",
       "      <td>8</td>\n",
       "      <td>0</td>\n",
       "      <td>1</td>\n",
       "      <td>male</td>\n",
       "      <td>71.0</td>\n",
       "      <td>0</td>\n",
       "      <td>0</td>\n",
       "      <td>34.6542</td>\n",
       "      <td>C</td>\n",
       "    </tr>\n",
       "    <tr>\n",
       "      <th>2</th>\n",
       "      <td>8</td>\n",
       "      <td>9</td>\n",
       "      <td>1</td>\n",
       "      <td>1</td>\n",
       "      <td>male</td>\n",
       "      <td>23.0</td>\n",
       "      <td>0</td>\n",
       "      <td>1</td>\n",
       "      <td>63.3583</td>\n",
       "      <td>C</td>\n",
       "    </tr>\n",
       "    <tr>\n",
       "      <th>3</th>\n",
       "      <td>13</td>\n",
       "      <td>14</td>\n",
       "      <td>0</td>\n",
       "      <td>1</td>\n",
       "      <td>male</td>\n",
       "      <td>21.0</td>\n",
       "      <td>0</td>\n",
       "      <td>1</td>\n",
       "      <td>77.2875</td>\n",
       "      <td>S</td>\n",
       "    </tr>\n",
       "    <tr>\n",
       "      <th>4</th>\n",
       "      <td>21</td>\n",
       "      <td>22</td>\n",
       "      <td>0</td>\n",
       "      <td>1</td>\n",
       "      <td>male</td>\n",
       "      <td>47.0</td>\n",
       "      <td>0</td>\n",
       "      <td>0</td>\n",
       "      <td>52.0000</td>\n",
       "      <td>S</td>\n",
       "    </tr>\n",
       "  </tbody>\n",
       "</table>\n",
       "</div>"
      ],
      "text/plain": [
       "   Unnamed: 0  PassengerId  Survived  Pclass   Sex   Age  SibSp  Parch  \\\n",
       "0           3            4         0       1  male  46.0      1      0   \n",
       "1           7            8         0       1  male  71.0      0      0   \n",
       "2           8            9         1       1  male  23.0      0      1   \n",
       "3          13           14         0       1  male  21.0      0      1   \n",
       "4          21           22         0       1  male  47.0      0      0   \n",
       "\n",
       "      Fare Embarked  \n",
       "0  61.1750        S  \n",
       "1  34.6542        C  \n",
       "2  63.3583        C  \n",
       "3  77.2875        S  \n",
       "4  52.0000        S  "
      ]
     },
     "execution_count": 7,
     "metadata": {},
     "output_type": "execute_result"
    }
   ],
   "source": [
    "df.head()"
   ]
  },
  {
   "cell_type": "code",
   "execution_count": 10,
   "metadata": {},
   "outputs": [
    {
     "data": {
      "text/plain": [
       "<bound method Series.count of 0      0\n",
       "1      0\n",
       "2      1\n",
       "3      0\n",
       "4      0\n",
       "      ..\n",
       "164    1\n",
       "165    0\n",
       "166    1\n",
       "167    1\n",
       "168    1\n",
       "Name: Survived, Length: 169, dtype: int64>"
      ]
     },
     "execution_count": 10,
     "metadata": {},
     "output_type": "execute_result"
    }
   ],
   "source": [
    "df['Survived']"
   ]
  },
  {
   "cell_type": "code",
   "execution_count": 11,
   "metadata": {
    "scrolled": true
   },
   "outputs": [
    {
     "data": {
      "text/html": [
       "<div>\n",
       "<style scoped>\n",
       "    .dataframe tbody tr th:only-of-type {\n",
       "        vertical-align: middle;\n",
       "    }\n",
       "\n",
       "    .dataframe tbody tr th {\n",
       "        vertical-align: top;\n",
       "    }\n",
       "\n",
       "    .dataframe thead th {\n",
       "        text-align: right;\n",
       "    }\n",
       "</style>\n",
       "<table border=\"1\" class=\"dataframe\">\n",
       "  <thead>\n",
       "    <tr style=\"text-align: right;\">\n",
       "      <th></th>\n",
       "      <th>Unnamed: 0</th>\n",
       "      <th>PassengerId</th>\n",
       "      <th>Survived</th>\n",
       "      <th>Pclass</th>\n",
       "      <th>Sex</th>\n",
       "      <th>Age</th>\n",
       "      <th>SibSp</th>\n",
       "      <th>Parch</th>\n",
       "      <th>Fare</th>\n",
       "      <th>Embarked</th>\n",
       "    </tr>\n",
       "  </thead>\n",
       "  <tbody>\n",
       "    <tr>\n",
       "      <th>0</th>\n",
       "      <td>3</td>\n",
       "      <td>4</td>\n",
       "      <td>0</td>\n",
       "      <td>1</td>\n",
       "      <td>male</td>\n",
       "      <td>46.0</td>\n",
       "      <td>1</td>\n",
       "      <td>0</td>\n",
       "      <td>61.1750</td>\n",
       "      <td>S</td>\n",
       "    </tr>\n",
       "    <tr>\n",
       "      <th>1</th>\n",
       "      <td>7</td>\n",
       "      <td>8</td>\n",
       "      <td>0</td>\n",
       "      <td>1</td>\n",
       "      <td>male</td>\n",
       "      <td>71.0</td>\n",
       "      <td>0</td>\n",
       "      <td>0</td>\n",
       "      <td>34.6542</td>\n",
       "      <td>C</td>\n",
       "    </tr>\n",
       "    <tr>\n",
       "      <th>2</th>\n",
       "      <td>8</td>\n",
       "      <td>9</td>\n",
       "      <td>1</td>\n",
       "      <td>1</td>\n",
       "      <td>male</td>\n",
       "      <td>23.0</td>\n",
       "      <td>0</td>\n",
       "      <td>1</td>\n",
       "      <td>63.3583</td>\n",
       "      <td>C</td>\n",
       "    </tr>\n",
       "    <tr>\n",
       "      <th>3</th>\n",
       "      <td>13</td>\n",
       "      <td>14</td>\n",
       "      <td>0</td>\n",
       "      <td>1</td>\n",
       "      <td>male</td>\n",
       "      <td>21.0</td>\n",
       "      <td>0</td>\n",
       "      <td>1</td>\n",
       "      <td>77.2875</td>\n",
       "      <td>S</td>\n",
       "    </tr>\n",
       "    <tr>\n",
       "      <th>4</th>\n",
       "      <td>21</td>\n",
       "      <td>22</td>\n",
       "      <td>0</td>\n",
       "      <td>1</td>\n",
       "      <td>male</td>\n",
       "      <td>47.0</td>\n",
       "      <td>0</td>\n",
       "      <td>0</td>\n",
       "      <td>52.0000</td>\n",
       "      <td>S</td>\n",
       "    </tr>\n",
       "  </tbody>\n",
       "</table>\n",
       "</div>"
      ],
      "text/plain": [
       "   Unnamed: 0  PassengerId  Survived  Pclass   Sex   Age  SibSp  Parch  \\\n",
       "0           3            4         0       1  male  46.0      1      0   \n",
       "1           7            8         0       1  male  71.0      0      0   \n",
       "2           8            9         1       1  male  23.0      0      1   \n",
       "3          13           14         0       1  male  21.0      0      1   \n",
       "4          21           22         0       1  male  47.0      0      0   \n",
       "\n",
       "      Fare Embarked  \n",
       "0  61.1750        S  \n",
       "1  34.6542        C  \n",
       "2  63.3583        C  \n",
       "3  77.2875        S  \n",
       "4  52.0000        S  "
      ]
     },
     "execution_count": 11,
     "metadata": {},
     "output_type": "execute_result"
    }
   ],
   "source": [
    "df.head()"
   ]
  },
  {
   "cell_type": "code",
   "execution_count": 22,
   "metadata": {},
   "outputs": [
    {
     "data": {
      "text/plain": [
       "Unnamed: 0     426.394737\n",
       "PassengerId    427.394737\n",
       "Survived         1.000000\n",
       "Pclass           1.157895\n",
       "Age             32.889649\n",
       "SibSp            0.491228\n",
       "Parch            0.500000\n",
       "Fare            87.628365\n",
       "dtype: float64"
      ]
     },
     "execution_count": 22,
     "metadata": {},
     "output_type": "execute_result"
    }
   ],
   "source": [
    "df[df['Survived'] == 1].mean(axis=0)"
   ]
  },
  {
   "cell_type": "code",
   "execution_count": 23,
   "metadata": {},
   "outputs": [
    {
     "data": {
      "text/plain": [
       "Unnamed: 0     345.454545\n",
       "PassengerId    346.454545\n",
       "Survived         0.000000\n",
       "Pclass           1.200000\n",
       "Age             41.327273\n",
       "SibSp            0.327273\n",
       "Parch            0.436364\n",
       "Fare            61.362345\n",
       "dtype: float64"
      ]
     },
     "execution_count": 23,
     "metadata": {},
     "output_type": "execute_result"
    }
   ],
   "source": [
    "df[df['Survived'] == 0].mean(axis=0)"
   ]
  },
  {
   "cell_type": "code",
   "execution_count": 24,
   "metadata": {},
   "outputs": [
    {
     "data": {
      "text/plain": [
       "Unnamed: 0     400.053254\n",
       "PassengerId    401.053254\n",
       "Survived         0.674556\n",
       "Pclass           1.171598\n",
       "Age             35.635621\n",
       "SibSp            0.437870\n",
       "Parch            0.479290\n",
       "Fare            79.080252\n",
       "dtype: float64"
      ]
     },
     "execution_count": 24,
     "metadata": {},
     "output_type": "execute_result"
    }
   ],
   "source": [
    "df.mean(axis=0)"
   ]
  },
  {
   "cell_type": "code",
   "execution_count": 25,
   "metadata": {},
   "outputs": [
    {
     "data": {
      "text/plain": [
       "<matplotlib.axes._subplots.AxesSubplot at 0x1c260698a08>"
      ]
     },
     "execution_count": 25,
     "metadata": {},
     "output_type": "execute_result"
    },
    {
     "data": {
      "image/png": "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\n",
      "text/plain": [
       "<Figure size 432x288 with 1 Axes>"
      ]
     },
     "metadata": {
      "needs_background": "light"
     },
     "output_type": "display_data"
    }
   ],
   "source": [
    "df.plot(x='Pclass', y='Survived', kind='scatter')"
   ]
  },
  {
   "cell_type": "code",
<<<<<<< HEAD
   "execution_count": 2,
   "metadata": {},
   "outputs": [],
   "source": [
    "import build_features\n"
=======
   "execution_count": 26,
   "metadata": {},
   "outputs": [
    {
     "data": {
      "text/plain": [
       "<matplotlib.axes._subplots.AxesSubplot at 0x1c26087cfc8>"
      ]
     },
     "execution_count": 26,
     "metadata": {},
     "output_type": "execute_result"
    },
    {
     "data": {
      "image/png": "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\n",
      "text/plain": [
       "<Figure size 432x288 with 1 Axes>"
      ]
     },
     "metadata": {
      "needs_background": "light"
     },
     "output_type": "display_data"
    }
   ],
   "source": [
    "df.plot(x='Age', y='Survived', kind='scatter')"
>>>>>>> TASK4
   ]
  },
  {
   "cell_type": "code",
<<<<<<< HEAD
   "execution_count": 4,
   "metadata": {},
   "outputs": [
    {
     "ename": "SyntaxError",
     "evalue": "(unicode error) 'unicodeescape' codec can't decode bytes in position 2-3: truncated \\UXXXXXXXX escape (<ipython-input-4-92384c6149f8>, line 1)",
     "output_type": "error",
     "traceback": [
      "\u001b[1;36m  File \u001b[1;32m\"<ipython-input-4-92384c6149f8>\"\u001b[1;36m, line \u001b[1;32m1\u001b[0m\n\u001b[1;33m    build_features('C:\\Users\\Damian\\PycharmProjects\\Roche\\Junior-Data-Science-Software-Engineer\\data\\train_preprocessed.csv')\u001b[0m\n\u001b[1;37m                  ^\u001b[0m\n\u001b[1;31mSyntaxError\u001b[0m\u001b[1;31m:\u001b[0m (unicode error) 'unicodeescape' codec can't decode bytes in position 2-3: truncated \\UXXXXXXXX escape\n"
     ]
    }
   ],
   "source": [
    "build_features('C:\\Users\\Damian\\PycharmProjects\\Roche\\Junior-Data-Science-Software-Engineer\\data\\train_preprocessed.csv')"
=======
   "execution_count": 27,
   "metadata": {},
   "outputs": [
    {
     "data": {
      "text/plain": [
       "<matplotlib.axes._subplots.AxesSubplot at 0x1c2608dc788>"
      ]
     },
     "execution_count": 27,
     "metadata": {},
     "output_type": "execute_result"
    },
    {
     "data": {
      "image/png": "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\n",
      "text/plain": [
       "<Figure size 432x288 with 1 Axes>"
      ]
     },
     "metadata": {
      "needs_background": "light"
     },
     "output_type": "display_data"
    }
   ],
   "source": [
    "df.plot(x='Fare', y='Survived', kind='scatter')"
>>>>>>> TASK4
   ]
  },
  {
   "cell_type": "code",
   "execution_count": null,
   "metadata": {},
   "outputs": [],
   "source": []
  }
 ],
 "metadata": {
  "kernelspec": {
   "display_name": "Python 3",
   "language": "python",
   "name": "python3"
  },
  "language_info": {
   "codemirror_mode": {
    "name": "ipython",
    "version": 3
   },
   "file_extension": ".py",
   "mimetype": "text/x-python",
   "name": "python",
   "nbconvert_exporter": "python",
   "pygments_lexer": "ipython3",
   "version": "3.7.6"
  }
 },
 "nbformat": 4,
 "nbformat_minor": 4
}
