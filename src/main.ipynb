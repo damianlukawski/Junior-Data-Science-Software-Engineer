{
 "cells": [
  {
   "cell_type": "code",
   "execution_count": null,
   "metadata": {
    "scrolled": true
   },
   "outputs": [],
   "source": [
    "import numpy as np\n",
    "import pandas as pd\n",
    "import sklearn\n",
    "import pickle as pkl\n",
    "import preprocess\n",
    "import build_features\n",
    "import train\n",
    "import predict\n",
    "import matplotlib.pyplot as plt"
   ]
  },
  {
   "cell_type": "code",
   "execution_count": null,
   "metadata": {},
   "outputs": [],
   "source": [
    "#Clear Training data"
   ]
  },
  {
   "cell_type": "code",
   "execution_count": null,
   "metadata": {
    "scrolled": true
   },
   "outputs": [],
   "source": [
    "preprocess('C:\\\\Users\\\\Damian\\\\PycharmProjects\\\\Roche\\\\Junior-Data-Science-Software-Engineer\\\\data\\\\train.csv')"
   ]
  },
  {
   "cell_type": "code",
   "execution_count": null,
   "metadata": {},
   "outputs": [],
   "source": [
    "#building features for modelling\n",
    "build_features('C:\\\\Users\\\\Damian\\\\PycharmProjects\\\\Roche\\\\Junior-Data-Science-Software-Engineer\\\\data\\\\train_preprocessed.csv')"
   ]
  },
  {
   "cell_type": "code",
   "execution_count": null,
   "metadata": {},
   "outputs": [],
   "source": [
    "#training model with random forrest algorithm\n",
    "build_features('C:\\\\Users\\\\Damian\\\\PycharmProjects\\\\Roche\\\\Junior-Data-Science-Software-Engineer\\\\data\\\\train_preprocessed_bf.csv')"
   ]
  },
  {
   "cell_type": "code",
   "execution_count": null,
   "metadata": {},
   "outputs": [],
   "source": [
    "#Clear data for prediction\n",
    "preprocess('C:\\\\Users\\\\Damian\\\\PycharmProjects\\\\Roche\\\\Junior-Data-Science-Software-Engineer\\\\data\\\\val.csv')"
   ]
  },
  {
   "cell_type": "code",
   "execution_count": null,
   "metadata": {},
   "outputs": [],
   "source": [
    "#building features for modelling\n",
    "build_features('C:\\\\Users\\\\Damian\\\\PycharmProjects\\\\Roche\\\\Junior-Data-Science-Software-Engineer\\\\data\\\\val_preprocessed.csv')"
   ]
  },
  {
   "cell_type": "code",
   "execution_count": null,
   "metadata": {},
   "outputs": [],
   "source": [
    "#predicting whether someone survived a crash, basing on training model\n",
    "build_features('C:\\\\Users\\\\Damian\\\\PycharmProjects\\\\Roche\\\\Junior-Data-Science-Software-Engineer\\\\data\\\\val_preprocessed_bf.csv')"
   ]
  },
  {
   "cell_type": "code",
   "execution_count": null,
   "metadata": {},
   "outputs": [],
   "source": [
    "#Sorry, but I just didn't have enough time for debugging"
   ]
  }
 ],
 "metadata": {
  "celltoolbar": "Raw Cell Format",
  "kernelspec": {
   "display_name": "Python 3",
   "language": "python",
   "name": "python3"
  },
  "language_info": {
   "codemirror_mode": {
    "name": "ipython",
    "version": 3
   },
   "file_extension": ".py",
   "mimetype": "text/x-python",
   "name": "python",
   "nbconvert_exporter": "python",
   "pygments_lexer": "ipython3",
   "version": "3.7.6"
  }
 },
 "nbformat": 4,
 "nbformat_minor": 4
}
